{
 "cells": [
  {
   "cell_type": "code",
   "execution_count": 4,
   "id": "c4d57e6d",
   "metadata": {},
   "outputs": [],
   "source": [
    "%matplotlib inline\n",
    "import matplotlib.pyplot as plt\n",
    "import seaborn as sns\n",
    "\n",
    "import numpy as np\n",
    "import pandas as pd\n",
    "import random\n",
    "\n",
    "from sklearn.metrics import r2_score, mean_squared_error\n",
    "from sklearn.linear_model import LinearRegression, Lasso, LassoCV, Ridge, ElasticNet\n",
    "from sklearn.preprocessing import PolynomialFeatures, StandardScaler\n",
    "from sklearn.model_selection import train_test_split, cross_val_score, KFold, GridSearchCV\n",
    "\n",
    "#Mean Absolute Error (MAE)\n",
    "def mae(y_true, y_pred):\n",
    "    return np.mean(np.abs(y_pred - y_true)) \n",
    "\n",
    "import pickle"
   ]
  },
  {
   "cell_type": "code",
   "execution_count": 7,
   "id": "b2e82035",
   "metadata": {},
   "outputs": [
    {
     "data": {
      "text/html": [
       "<div>\n",
       "<style scoped>\n",
       "    .dataframe tbody tr th:only-of-type {\n",
       "        vertical-align: middle;\n",
       "    }\n",
       "\n",
       "    .dataframe tbody tr th {\n",
       "        vertical-align: top;\n",
       "    }\n",
       "\n",
       "    .dataframe thead th {\n",
       "        text-align: right;\n",
       "    }\n",
       "</style>\n",
       "<table border=\"1\" class=\"dataframe\">\n",
       "  <thead>\n",
       "    <tr style=\"text-align: right;\">\n",
       "      <th></th>\n",
       "      <th>pos</th>\n",
       "      <th>name</th>\n",
       "      <th>weight</th>\n",
       "      <th>height</th>\n",
       "      <th>Age</th>\n",
       "      <th>G</th>\n",
       "      <th>GS</th>\n",
       "      <th>MP</th>\n",
       "      <th>FG%</th>\n",
       "      <th>3P</th>\n",
       "      <th>...</th>\n",
       "      <th>TS%</th>\n",
       "      <th>year</th>\n",
       "      <th>Player</th>\n",
       "      <th>Current_Sal</th>\n",
       "      <th>Next_Sal</th>\n",
       "      <th>min_sal_curr</th>\n",
       "      <th>min_sal_next</th>\n",
       "      <th>sal_cap_curr</th>\n",
       "      <th>sal_cap_next</th>\n",
       "      <th>height_ft</th>\n",
       "    </tr>\n",
       "    <tr>\n",
       "      <th>name-year</th>\n",
       "      <th></th>\n",
       "      <th></th>\n",
       "      <th></th>\n",
       "      <th></th>\n",
       "      <th></th>\n",
       "      <th></th>\n",
       "      <th></th>\n",
       "      <th></th>\n",
       "      <th></th>\n",
       "      <th></th>\n",
       "      <th></th>\n",
       "      <th></th>\n",
       "      <th></th>\n",
       "      <th></th>\n",
       "      <th></th>\n",
       "      <th></th>\n",
       "      <th></th>\n",
       "      <th></th>\n",
       "      <th></th>\n",
       "      <th></th>\n",
       "      <th></th>\n",
       "    </tr>\n",
       "  </thead>\n",
       "  <tbody>\n",
       "    <tr>\n",
       "      <th>Stephen_Curry_2016</th>\n",
       "      <td>G</td>\n",
       "      <td>Stephen-Curry</td>\n",
       "      <td>185</td>\n",
       "      <td>6-2</td>\n",
       "      <td>28.0</td>\n",
       "      <td>79.0</td>\n",
       "      <td>79.0</td>\n",
       "      <td>33.4</td>\n",
       "      <td>0.468</td>\n",
       "      <td>4.1</td>\n",
       "      <td>...</td>\n",
       "      <td>0.624</td>\n",
       "      <td>2016</td>\n",
       "      <td>Stephen Curry</td>\n",
       "      <td>14.463090</td>\n",
       "      <td>39.344900</td>\n",
       "      <td>875000.0</td>\n",
       "      <td>1313000.0</td>\n",
       "      <td>94143000.0</td>\n",
       "      <td>99093000.0</td>\n",
       "      <td>6.166667</td>\n",
       "    </tr>\n",
       "    <tr>\n",
       "      <th>Kevin_Durant_2016</th>\n",
       "      <td>F-G</td>\n",
       "      <td>Kevin-Durant</td>\n",
       "      <td>240</td>\n",
       "      <td>6-10</td>\n",
       "      <td>28.0</td>\n",
       "      <td>62.0</td>\n",
       "      <td>62.0</td>\n",
       "      <td>33.4</td>\n",
       "      <td>0.537</td>\n",
       "      <td>1.9</td>\n",
       "      <td>...</td>\n",
       "      <td>0.651</td>\n",
       "      <td>2016</td>\n",
       "      <td>Kevin Durant</td>\n",
       "      <td>31.690926</td>\n",
       "      <td>28.360732</td>\n",
       "      <td>875000.0</td>\n",
       "      <td>1313000.0</td>\n",
       "      <td>94143000.0</td>\n",
       "      <td>99093000.0</td>\n",
       "      <td>6.833333</td>\n",
       "    </tr>\n",
       "    <tr>\n",
       "      <th>Gordon_Hayward_2016</th>\n",
       "      <td>F-G</td>\n",
       "      <td>Gordon-Hayward</td>\n",
       "      <td>225</td>\n",
       "      <td>6-7</td>\n",
       "      <td>26.0</td>\n",
       "      <td>73.0</td>\n",
       "      <td>73.0</td>\n",
       "      <td>34.5</td>\n",
       "      <td>0.471</td>\n",
       "      <td>2.0</td>\n",
       "      <td>...</td>\n",
       "      <td>0.595</td>\n",
       "      <td>2016</td>\n",
       "      <td>Gordon Hayward</td>\n",
       "      <td>19.192568</td>\n",
       "      <td>33.724200</td>\n",
       "      <td>875000.0</td>\n",
       "      <td>1313000.0</td>\n",
       "      <td>94143000.0</td>\n",
       "      <td>99093000.0</td>\n",
       "      <td>6.583333</td>\n",
       "    </tr>\n",
       "    <tr>\n",
       "      <th>Kyle_Lowry_2016</th>\n",
       "      <td>G</td>\n",
       "      <td>Kyle-Lowry</td>\n",
       "      <td>196</td>\n",
       "      <td>6-0</td>\n",
       "      <td>30.0</td>\n",
       "      <td>60.0</td>\n",
       "      <td>60.0</td>\n",
       "      <td>37.4</td>\n",
       "      <td>0.464</td>\n",
       "      <td>3.2</td>\n",
       "      <td>...</td>\n",
       "      <td>0.623</td>\n",
       "      <td>2016</td>\n",
       "      <td>Kyle Lowry</td>\n",
       "      <td>14.328925</td>\n",
       "      <td>32.789208</td>\n",
       "      <td>875000.0</td>\n",
       "      <td>1313000.0</td>\n",
       "      <td>94143000.0</td>\n",
       "      <td>99093000.0</td>\n",
       "      <td>6.000000</td>\n",
       "    </tr>\n",
       "    <tr>\n",
       "      <th>Otto_Porter_2016</th>\n",
       "      <td>F</td>\n",
       "      <td>Otto-Porter</td>\n",
       "      <td>198</td>\n",
       "      <td>6-8</td>\n",
       "      <td>23.0</td>\n",
       "      <td>80.0</td>\n",
       "      <td>80.0</td>\n",
       "      <td>32.6</td>\n",
       "      <td>0.516</td>\n",
       "      <td>1.9</td>\n",
       "      <td>...</td>\n",
       "      <td>0.628</td>\n",
       "      <td>2016</td>\n",
       "      <td>Otto Porter</td>\n",
       "      <td>7.037868</td>\n",
       "      <td>28.103500</td>\n",
       "      <td>875000.0</td>\n",
       "      <td>1313000.0</td>\n",
       "      <td>94143000.0</td>\n",
       "      <td>99093000.0</td>\n",
       "      <td>6.666667</td>\n",
       "    </tr>\n",
       "  </tbody>\n",
       "</table>\n",
       "<p>5 rows × 33 columns</p>\n",
       "</div>"
      ],
      "text/plain": [
       "                     pos            name  weight height   Age     G    GS  \\\n",
       "name-year                                                                   \n",
       "Stephen_Curry_2016     G   Stephen-Curry     185    6-2  28.0  79.0  79.0   \n",
       "Kevin_Durant_2016    F-G    Kevin-Durant     240   6-10  28.0  62.0  62.0   \n",
       "Gordon_Hayward_2016  F-G  Gordon-Hayward     225    6-7  26.0  73.0  73.0   \n",
       "Kyle_Lowry_2016        G      Kyle-Lowry     196    6-0  30.0  60.0  60.0   \n",
       "Otto_Porter_2016       F     Otto-Porter     198    6-8  23.0  80.0  80.0   \n",
       "\n",
       "                       MP    FG%   3P  ...    TS%  year          Player  \\\n",
       "name-year                              ...                                \n",
       "Stephen_Curry_2016   33.4  0.468  4.1  ...  0.624  2016   Stephen Curry   \n",
       "Kevin_Durant_2016    33.4  0.537  1.9  ...  0.651  2016    Kevin Durant   \n",
       "Gordon_Hayward_2016  34.5  0.471  2.0  ...  0.595  2016  Gordon Hayward   \n",
       "Kyle_Lowry_2016      37.4  0.464  3.2  ...  0.623  2016      Kyle Lowry   \n",
       "Otto_Porter_2016     32.6  0.516  1.9  ...  0.628  2016     Otto Porter   \n",
       "\n",
       "                     Current_Sal   Next_Sal  min_sal_curr  min_sal_next  \\\n",
       "name-year                                                                 \n",
       "Stephen_Curry_2016     14.463090  39.344900      875000.0     1313000.0   \n",
       "Kevin_Durant_2016      31.690926  28.360732      875000.0     1313000.0   \n",
       "Gordon_Hayward_2016    19.192568  33.724200      875000.0     1313000.0   \n",
       "Kyle_Lowry_2016        14.328925  32.789208      875000.0     1313000.0   \n",
       "Otto_Porter_2016        7.037868  28.103500      875000.0     1313000.0   \n",
       "\n",
       "                     sal_cap_curr  sal_cap_next  height_ft  \n",
       "name-year                                                   \n",
       "Stephen_Curry_2016     94143000.0    99093000.0   6.166667  \n",
       "Kevin_Durant_2016      94143000.0    99093000.0   6.833333  \n",
       "Gordon_Hayward_2016    94143000.0    99093000.0   6.583333  \n",
       "Kyle_Lowry_2016        94143000.0    99093000.0   6.000000  \n",
       "Otto_Porter_2016       94143000.0    99093000.0   6.666667  \n",
       "\n",
       "[5 rows x 33 columns]"
      ]
     },
     "execution_count": 7,
     "metadata": {},
     "output_type": "execute_result"
    }
   ],
   "source": [
    "dfnba = pd.read_csv(r'/Users/andrei/Dropbox/Metis/7-Engineering/andrei-eng-project/data/df_clean.csv')\n",
    "dfnba = dfnba.set_index('name-year',drop=True)\n",
    "dfnba.head()"
   ]
  },
  {
   "cell_type": "code",
   "execution_count": 9,
   "id": "623281d9",
   "metadata": {},
   "outputs": [
    {
     "data": {
      "text/html": [
       "<div>\n",
       "<style scoped>\n",
       "    .dataframe tbody tr th:only-of-type {\n",
       "        vertical-align: middle;\n",
       "    }\n",
       "\n",
       "    .dataframe tbody tr th {\n",
       "        vertical-align: top;\n",
       "    }\n",
       "\n",
       "    .dataframe thead th {\n",
       "        text-align: right;\n",
       "    }\n",
       "</style>\n",
       "<table border=\"1\" class=\"dataframe\">\n",
       "  <thead>\n",
       "    <tr style=\"text-align: right;\">\n",
       "      <th></th>\n",
       "      <th>weight</th>\n",
       "      <th>Age</th>\n",
       "      <th>G</th>\n",
       "      <th>GS</th>\n",
       "      <th>MP</th>\n",
       "      <th>FG%</th>\n",
       "      <th>3P</th>\n",
       "      <th>3P%</th>\n",
       "      <th>3PA</th>\n",
       "      <th>FT</th>\n",
       "      <th>...</th>\n",
       "      <th>USG%</th>\n",
       "      <th>TS%</th>\n",
       "      <th>year</th>\n",
       "      <th>Current_Sal</th>\n",
       "      <th>Next_Sal</th>\n",
       "      <th>min_sal_curr</th>\n",
       "      <th>min_sal_next</th>\n",
       "      <th>sal_cap_curr</th>\n",
       "      <th>sal_cap_next</th>\n",
       "      <th>height_ft</th>\n",
       "    </tr>\n",
       "  </thead>\n",
       "  <tbody>\n",
       "    <tr>\n",
       "      <th>count</th>\n",
       "      <td>566.000000</td>\n",
       "      <td>566.000000</td>\n",
       "      <td>566.000000</td>\n",
       "      <td>566.000000</td>\n",
       "      <td>566.000000</td>\n",
       "      <td>566.000000</td>\n",
       "      <td>566.000000</td>\n",
       "      <td>566.000000</td>\n",
       "      <td>566.000000</td>\n",
       "      <td>566.000000</td>\n",
       "      <td>...</td>\n",
       "      <td>566.000000</td>\n",
       "      <td>566.000000</td>\n",
       "      <td>566.000000</td>\n",
       "      <td>566.000000</td>\n",
       "      <td>566.000000</td>\n",
       "      <td>5.660000e+02</td>\n",
       "      <td>5.660000e+02</td>\n",
       "      <td>5.660000e+02</td>\n",
       "      <td>5.660000e+02</td>\n",
       "      <td>566.000000</td>\n",
       "    </tr>\n",
       "    <tr>\n",
       "      <th>mean</th>\n",
       "      <td>221.107774</td>\n",
       "      <td>27.851590</td>\n",
       "      <td>56.019435</td>\n",
       "      <td>24.249117</td>\n",
       "      <td>21.338163</td>\n",
       "      <td>0.465481</td>\n",
       "      <td>0.981802</td>\n",
       "      <td>0.310924</td>\n",
       "      <td>2.700707</td>\n",
       "      <td>1.384806</td>\n",
       "      <td>...</td>\n",
       "      <td>18.236396</td>\n",
       "      <td>0.558862</td>\n",
       "      <td>2018.166078</td>\n",
       "      <td>7.445250</td>\n",
       "      <td>7.789328</td>\n",
       "      <td>1.300984e+06</td>\n",
       "      <td>1.414166e+06</td>\n",
       "      <td>1.032675e+08</td>\n",
       "      <td>1.068879e+08</td>\n",
       "      <td>6.560660</td>\n",
       "    </tr>\n",
       "    <tr>\n",
       "      <th>std</th>\n",
       "      <td>25.505246</td>\n",
       "      <td>4.219955</td>\n",
       "      <td>19.317413</td>\n",
       "      <td>25.437130</td>\n",
       "      <td>7.174014</td>\n",
       "      <td>0.079633</td>\n",
       "      <td>0.813800</td>\n",
       "      <td>0.127083</td>\n",
       "      <td>2.061377</td>\n",
       "      <td>1.110982</td>\n",
       "      <td>...</td>\n",
       "      <td>4.690965</td>\n",
       "      <td>0.063981</td>\n",
       "      <td>1.431868</td>\n",
       "      <td>7.753353</td>\n",
       "      <td>8.126294</td>\n",
       "      <td>2.037779e+05</td>\n",
       "      <td>6.791633e+04</td>\n",
       "      <td>5.793491e+06</td>\n",
       "      <td>4.982544e+06</td>\n",
       "      <td>0.276721</td>\n",
       "    </tr>\n",
       "    <tr>\n",
       "      <th>min</th>\n",
       "      <td>160.000000</td>\n",
       "      <td>20.000000</td>\n",
       "      <td>1.000000</td>\n",
       "      <td>0.000000</td>\n",
       "      <td>2.300000</td>\n",
       "      <td>0.083000</td>\n",
       "      <td>0.000000</td>\n",
       "      <td>0.000000</td>\n",
       "      <td>0.000000</td>\n",
       "      <td>0.000000</td>\n",
       "      <td>...</td>\n",
       "      <td>7.200000</td>\n",
       "      <td>0.182000</td>\n",
       "      <td>2016.000000</td>\n",
       "      <td>0.081955</td>\n",
       "      <td>1.489065</td>\n",
       "      <td>8.750000e+05</td>\n",
       "      <td>1.313000e+06</td>\n",
       "      <td>9.414300e+07</td>\n",
       "      <td>9.909300e+07</td>\n",
       "      <td>5.750000</td>\n",
       "    </tr>\n",
       "    <tr>\n",
       "      <th>25%</th>\n",
       "      <td>200.000000</td>\n",
       "      <td>25.000000</td>\n",
       "      <td>45.250000</td>\n",
       "      <td>3.000000</td>\n",
       "      <td>16.300000</td>\n",
       "      <td>0.415250</td>\n",
       "      <td>0.300000</td>\n",
       "      <td>0.286000</td>\n",
       "      <td>1.025000</td>\n",
       "      <td>0.700000</td>\n",
       "      <td>...</td>\n",
       "      <td>14.725000</td>\n",
       "      <td>0.523000</td>\n",
       "      <td>2017.000000</td>\n",
       "      <td>1.943195</td>\n",
       "      <td>2.389641</td>\n",
       "      <td>1.313000e+06</td>\n",
       "      <td>1.339000e+06</td>\n",
       "      <td>9.909300e+07</td>\n",
       "      <td>1.018690e+08</td>\n",
       "      <td>6.333333</td>\n",
       "    </tr>\n",
       "    <tr>\n",
       "      <th>50%</th>\n",
       "      <td>220.000000</td>\n",
       "      <td>27.000000</td>\n",
       "      <td>60.000000</td>\n",
       "      <td>13.500000</td>\n",
       "      <td>21.100000</td>\n",
       "      <td>0.448500</td>\n",
       "      <td>0.900000</td>\n",
       "      <td>0.346000</td>\n",
       "      <td>2.400000</td>\n",
       "      <td>1.100000</td>\n",
       "      <td>...</td>\n",
       "      <td>18.000000</td>\n",
       "      <td>0.561000</td>\n",
       "      <td>2018.000000</td>\n",
       "      <td>4.434993</td>\n",
       "      <td>4.581282</td>\n",
       "      <td>1.339000e+06</td>\n",
       "      <td>1.446000e+06</td>\n",
       "      <td>1.018690e+08</td>\n",
       "      <td>1.091400e+08</td>\n",
       "      <td>6.583333</td>\n",
       "    </tr>\n",
       "    <tr>\n",
       "      <th>75%</th>\n",
       "      <td>240.000000</td>\n",
       "      <td>31.000000</td>\n",
       "      <td>70.000000</td>\n",
       "      <td>43.000000</td>\n",
       "      <td>26.700000</td>\n",
       "      <td>0.503000</td>\n",
       "      <td>1.500000</td>\n",
       "      <td>0.388000</td>\n",
       "      <td>3.975000</td>\n",
       "      <td>1.800000</td>\n",
       "      <td>...</td>\n",
       "      <td>21.100000</td>\n",
       "      <td>0.598000</td>\n",
       "      <td>2019.000000</td>\n",
       "      <td>9.626520</td>\n",
       "      <td>9.720900</td>\n",
       "      <td>1.446000e+06</td>\n",
       "      <td>1.446000e+06</td>\n",
       "      <td>1.091400e+08</td>\n",
       "      <td>1.091400e+08</td>\n",
       "      <td>6.750000</td>\n",
       "    </tr>\n",
       "    <tr>\n",
       "      <th>max</th>\n",
       "      <td>290.000000</td>\n",
       "      <td>42.000000</td>\n",
       "      <td>82.000000</td>\n",
       "      <td>82.000000</td>\n",
       "      <td>37.400000</td>\n",
       "      <td>1.000000</td>\n",
       "      <td>4.100000</td>\n",
       "      <td>1.000000</td>\n",
       "      <td>10.000000</td>\n",
       "      <td>7.200000</td>\n",
       "      <td>...</td>\n",
       "      <td>31.900000</td>\n",
       "      <td>1.000000</td>\n",
       "      <td>2020.000000</td>\n",
       "      <td>42.599503</td>\n",
       "      <td>39.344900</td>\n",
       "      <td>1.446000e+06</td>\n",
       "      <td>1.489000e+06</td>\n",
       "      <td>1.091400e+08</td>\n",
       "      <td>1.124140e+08</td>\n",
       "      <td>7.250000</td>\n",
       "    </tr>\n",
       "  </tbody>\n",
       "</table>\n",
       "<p>8 rows × 29 columns</p>\n",
       "</div>"
      ],
      "text/plain": [
       "           weight         Age           G          GS          MP         FG%  \\\n",
       "count  566.000000  566.000000  566.000000  566.000000  566.000000  566.000000   \n",
       "mean   221.107774   27.851590   56.019435   24.249117   21.338163    0.465481   \n",
       "std     25.505246    4.219955   19.317413   25.437130    7.174014    0.079633   \n",
       "min    160.000000   20.000000    1.000000    0.000000    2.300000    0.083000   \n",
       "25%    200.000000   25.000000   45.250000    3.000000   16.300000    0.415250   \n",
       "50%    220.000000   27.000000   60.000000   13.500000   21.100000    0.448500   \n",
       "75%    240.000000   31.000000   70.000000   43.000000   26.700000    0.503000   \n",
       "max    290.000000   42.000000   82.000000   82.000000   37.400000    1.000000   \n",
       "\n",
       "               3P         3P%         3PA          FT  ...        USG%  \\\n",
       "count  566.000000  566.000000  566.000000  566.000000  ...  566.000000   \n",
       "mean     0.981802    0.310924    2.700707    1.384806  ...   18.236396   \n",
       "std      0.813800    0.127083    2.061377    1.110982  ...    4.690965   \n",
       "min      0.000000    0.000000    0.000000    0.000000  ...    7.200000   \n",
       "25%      0.300000    0.286000    1.025000    0.700000  ...   14.725000   \n",
       "50%      0.900000    0.346000    2.400000    1.100000  ...   18.000000   \n",
       "75%      1.500000    0.388000    3.975000    1.800000  ...   21.100000   \n",
       "max      4.100000    1.000000   10.000000    7.200000  ...   31.900000   \n",
       "\n",
       "              TS%         year  Current_Sal    Next_Sal  min_sal_curr  \\\n",
       "count  566.000000   566.000000   566.000000  566.000000  5.660000e+02   \n",
       "mean     0.558862  2018.166078     7.445250    7.789328  1.300984e+06   \n",
       "std      0.063981     1.431868     7.753353    8.126294  2.037779e+05   \n",
       "min      0.182000  2016.000000     0.081955    1.489065  8.750000e+05   \n",
       "25%      0.523000  2017.000000     1.943195    2.389641  1.313000e+06   \n",
       "50%      0.561000  2018.000000     4.434993    4.581282  1.339000e+06   \n",
       "75%      0.598000  2019.000000     9.626520    9.720900  1.446000e+06   \n",
       "max      1.000000  2020.000000    42.599503   39.344900  1.446000e+06   \n",
       "\n",
       "       min_sal_next  sal_cap_curr  sal_cap_next   height_ft  \n",
       "count  5.660000e+02  5.660000e+02  5.660000e+02  566.000000  \n",
       "mean   1.414166e+06  1.032675e+08  1.068879e+08    6.560660  \n",
       "std    6.791633e+04  5.793491e+06  4.982544e+06    0.276721  \n",
       "min    1.313000e+06  9.414300e+07  9.909300e+07    5.750000  \n",
       "25%    1.339000e+06  9.909300e+07  1.018690e+08    6.333333  \n",
       "50%    1.446000e+06  1.018690e+08  1.091400e+08    6.583333  \n",
       "75%    1.446000e+06  1.091400e+08  1.091400e+08    6.750000  \n",
       "max    1.489000e+06  1.091400e+08  1.124140e+08    7.250000  \n",
       "\n",
       "[8 rows x 29 columns]"
      ]
     },
     "execution_count": 9,
     "metadata": {},
     "output_type": "execute_result"
    }
   ],
   "source": [
    "dfnba.describe()"
   ]
  },
  {
   "cell_type": "code",
   "execution_count": 14,
   "id": "f213d11f",
   "metadata": {},
   "outputs": [
    {
     "name": "stdout",
     "output_type": "stream",
     "text": [
      "['pos', 'name', 'weight', 'height', 'Age', 'G', 'GS', 'MP', 'FG%', '3P', '3P%', '3PA', 'FT', 'FT%', 'FTA', 'ORB', 'TRB', 'AST', 'STL', 'BLK', 'TOV', 'PTS', 'USG%', 'TS%', 'year', 'Player', 'Current_Sal', 'Next_Sal', 'min_sal_curr', 'min_sal_next', 'sal_cap_curr', 'sal_cap_next', 'height_ft']\n"
     ]
    }
   ],
   "source": [
    "orig_feats = list(dfnba.columns)\n",
    "print(orig_feats)"
   ]
  },
  {
   "cell_type": "markdown",
   "id": "173a232f",
   "metadata": {},
   "source": [
    "## Feature Engineering\n",
    "\n"
   ]
  },
  {
   "cell_type": "code",
   "execution_count": 120,
   "id": "42925c84",
   "metadata": {},
   "outputs": [],
   "source": [
    "# New Features\n",
    "\n",
    "dfnba['GS/G'] = dfnba['GS']/dfnba['G']\n",
    "dfnba['G/MaxG'] = dfnba['G']/82\n",
    "dfnba['MP_sq'] = dfnba['MP']**2\n",
    "dfnba['PTS_sq'] = dfnba['PTS']**2"
   ]
  },
  {
   "cell_type": "code",
   "execution_count": 121,
   "id": "2d81733d",
   "metadata": {
    "scrolled": true
   },
   "outputs": [
    {
     "name": "stdout",
     "output_type": "stream",
     "text": [
      "['pos', 'name', 'weight', 'height', 'Age', 'G', 'GS', 'MP', 'FG%', '3P', '3P%', '3PA', 'FT', 'FT%', 'FTA', 'ORB', 'TRB', 'AST', 'STL', 'BLK', 'TOV', 'PTS', 'USG%', 'TS%', 'year', 'Player', 'Current_Sal', 'Next_Sal', 'min_sal_curr', 'min_sal_next', 'sal_cap_curr', 'sal_cap_next', 'height_ft', 'GS/G', 'G/MaxG', 'TOV/AST', 'MP_sq', 'PTS_sq']\n"
     ]
    }
   ],
   "source": [
    "all_feats = list(dfnba.columns)\n",
    "print(all_feats)"
   ]
  },
  {
   "cell_type": "markdown",
   "id": "4384a52a",
   "metadata": {},
   "source": [
    "## Linear Regression Model"
   ]
  },
  {
   "cell_type": "code",
   "execution_count": 122,
   "id": "817bc39f",
   "metadata": {},
   "outputs": [
    {
     "name": "stdout",
     "output_type": "stream",
     "text": [
      "[0.56925004 0.6544828  0.7662503  0.79006938 0.54565592]\n",
      "Linear Reg Mean Score:  0.6651416890057534\n"
     ]
    },
    {
     "data": {
      "text/plain": [
       "LinearRegression()"
      ]
     },
     "execution_count": 122,
     "metadata": {},
     "output_type": "execute_result"
    }
   ],
   "source": [
    "lr = LinearRegression() \n",
    "\n",
    "feats = ['Age', 'G/MaxG','GS/G','MP','MP_sq','3P','3P%','FT','TRB','AST', 'TOV','PTS','PTS_sq']\n",
    "X_train, X_test, y_train, y_test = train_test_split(dfnba[feats], dfnba['Next_Sal'], test_size=0.2, random_state=44)\n",
    "\n",
    "kfold = KFold(n_splits=5, shuffle=True, random_state=0)\n",
    "scores = cross_val_score(lr, X_train, y_train, cv=kfold) \n",
    "print(scores) \n",
    "print(\"Linear Reg Mean Score: \", np.mean(scores)) \n",
    "\n",
    "# Build the Model \n",
    "lr.fit(X_train, y_train)"
   ]
  },
  {
   "cell_type": "code",
   "execution_count": 123,
   "id": "83913158",
   "metadata": {},
   "outputs": [
    {
     "name": "stdout",
     "output_type": "stream",
     "text": [
      "OLS R2 Train 0.7102366919940633\n",
      "OLS R2 Test 0.5528103141349092\n",
      "\n",
      "\n",
      "OLS MAE Test 3.1330204053575805 ($M)\n",
      "OLS RMSE Test 5.1124172069537215 ($M)\n"
     ]
    },
    {
     "data": {
      "text/plain": [
       "Text(0.5, 1.0, 'OLS Residuals vs Actual Salary($M), Test Set')"
      ]
     },
     "execution_count": 123,
     "metadata": {},
     "output_type": "execute_result"
    },
    {
     "data": {
      "image/png": "[encoded data removed]",
      "text/plain": [
       "<Figure size 432x288 with 1 Axes>"
      ]
     },
     "metadata": {
      "needs_background": "light"
     },
     "output_type": "display_data"
    },
    {
     "data": {
      "image/png": "[encoded data removed]",
      "text/plain": [
       "<Figure size 432x288 with 1 Axes>"
      ]
     },
     "metadata": {
      "needs_background": "light"
     },
     "output_type": "display_data"
    },
    {
     "data": {
      "image/png": "[encoded data removed]",
      "text/plain": [
       "<Figure size 432x288 with 1 Axes>"
      ]
     },
     "metadata": {
      "needs_background": "light"
     },
     "output_type": "display_data"
    }
   ],
   "source": [
    "print('OLS R2 Train', r2_score(y_train, y_train_pred))\n",
    "print('OLS R2 Test', r2_score(y_test, y_test_pred))\n",
    "print('\\n')\n",
    "print('OLS MAE Test', mae(y_test, y_test_pred), '($M)')\n",
    "print('OLS RMSE Test', np.sqrt(mean_squared_error(y_test, y_test_pred)), '($M)')\n",
    "\n",
    "# Fitted vs. Actual Train\n",
    "\n",
    "plt.figure()\n",
    "y_train_pred = lr.predict(X_train)\n",
    "plt.scatter(y_train, y_train_pred, alpha=0.2)\n",
    "plt.plot([0, 40], [0, 40])\n",
    "\n",
    "# Fitted vs. Actual Test\n",
    "\n",
    "plt.figure()\n",
    "y_test_pred = lr.predict(X_test)\n",
    "plt.scatter(y_test, y_test_pred, alpha=0.5)\n",
    "plt.plot([0, 40], [0, 40])\n",
    "plt.title('Predicted vs Actual Salary($M), Test Set')\n",
    "\n",
    "# Plot Residuals vs. predicted\n",
    "\n",
    "plt.figure()\n",
    "plt.scatter(y_test, y_test_pred - y_test, alpha=0.5)\n",
    "plt.plot([0, 40], [0, 0])\n",
    "plt.title('OLS Residuals vs Actual Salary($M), Test Set')"
   ]
  },
  {
   "cell_type": "markdown",
   "id": "01da24a5",
   "metadata": {},
   "source": [
    "## Lasso"
   ]
  },
  {
   "cell_type": "code",
   "execution_count": 125,
   "id": "6a2b4907",
   "metadata": {},
   "outputs": [
    {
     "data": {
      "text/plain": [
       "0.018975598765218503"
      ]
     },
     "execution_count": 125,
     "metadata": {},
     "output_type": "execute_result"
    }
   ],
   "source": [
    "feats = ['Age', 'G/MaxG','GS/G','MP','MP_sq','3P','3P%','FT','TRB','AST', 'TOV','PTS','PTS_sq']\n",
    "X_train, X_test, y_train, y_test = train_test_split(dfnba[feats], dfnba['Next_Sal'], test_size=0.2, random_state=44)\n",
    "\n",
    "## Scale the data\n",
    "std = StandardScaler()\n",
    "std.fit(X_train.values)\n",
    "\n",
    "## Scale the Predictors on both the train and test set\n",
    "X_tr = std.transform(X_train.values)\n",
    "X_te = std.transform(X_test.values)\n",
    "\n",
    "# Run the cross validation, find the best alpha, refit the model on all the data with that alpha\n",
    "\n",
    "alphavec = 10**np.linspace(-3,2,400)\n",
    "\n",
    "lasso_model = LassoCV(alphas = alphavec, cv=5)\n",
    "lasso_model.fit(X_tr, y_train)\n",
    "\n",
    "# This is the best alpha value it found - not far from the value\n",
    "# selected using simple validation\n",
    "lasso_model.alpha_"
   ]
  },
  {
   "cell_type": "code",
   "execution_count": 126,
   "id": "b10c7d22",
   "metadata": {},
   "outputs": [
    {
     "data": {
      "text/plain": [
       "<BarContainer object of 13 artists>"
      ]
     },
     "execution_count": 126,
     "metadata": {},
     "output_type": "execute_result"
    },
    {
     "data": {
      "image/png": "[encoded data removed]",
      "text/plain": [
       "<Figure size 1080x720 with 1 Axes>"
      ]
     },
     "metadata": {
      "needs_background": "light"
     },
     "output_type": "display_data"
    }
   ],
   "source": [
    "# plt.figure(figsize=(15, 10))\n",
    "# plt.bar(sorted_feats, sorted_coeffs)\n",
    "# plt.bar(X_train.columns, lasso_model.coef_)\n",
    "\n",
    "sorted_tuples = sorted(list(zip(X_train.columns, lasso_model.coef_)), key = lambda x:x[1])\n",
    "sorted_feats = [sorted_tuple[0] for sorted_tuple in sorted_tuples]\n",
    "sorted_coeffs = [sorted_tuple[1] for sorted_tuple in sorted_tuples]\n",
    "\n",
    "plt.figure(figsize=(15, 10))\n",
    "plt.bar(sorted_feats, sorted_coeffs)"
   ]
  },
  {
   "cell_type": "code",
   "execution_count": 127,
   "id": "bd336847",
   "metadata": {},
   "outputs": [
    {
     "name": "stdout",
     "output_type": "stream",
     "text": [
      "LASSO R2 Train 0.7055328969457955\n",
      "LASSO R2 Test 0.570911491412357\n",
      "\n",
      "\n",
      "LASSO MAE Test 3.0682963173739832 ($M)\n",
      "LASSO RMSE Test 5.007879158437053 ($M)\n"
     ]
    },
    {
     "data": {
      "text/plain": [
       "Text(0.5, 1.0, 'LASSO Residuals vs Actual Salary($M), Test Set')"
      ]
     },
     "execution_count": 127,
     "metadata": {},
     "output_type": "execute_result"
    },
    {
     "data": {
      "image/png": "[encoded data removed]",
      "text/plain": [
       "<Figure size 432x288 with 1 Axes>"
      ]
     },
     "metadata": {
      "needs_background": "light"
     },
     "output_type": "display_data"
    },
    {
     "data": {
      "image/png": "[encoded data removed]",
      "text/plain": [
       "<Figure size 432x288 with 1 Axes>"
      ]
     },
     "metadata": {
      "needs_background": "light"
     },
     "output_type": "display_data"
    },
    {
     "data": {
      "image/png": "[encoded data removed]",
      "text/plain": [
       "<Figure size 432x288 with 1 Axes>"
      ]
     },
     "metadata": {
      "needs_background": "light"
     },
     "output_type": "display_data"
    }
   ],
   "source": [
    "# Make predictions on the test set using the new model\n",
    "test_set_pred = lasso_model.predict(X_te)\n",
    "train_set_pred = lasso_model.predict(X_tr)\n",
    "\n",
    "print('LASSO R2 Train', r2_score(y_train, train_set_pred))\n",
    "print('LASSO R2 Test', r2_score(y_test, test_set_pred))\n",
    "print('\\n')\n",
    "print('LASSO MAE Test', mae(y_test, test_set_pred), '($M)')\n",
    "print('LASSO RMSE Test', np.sqrt(mean_squared_error(y_test, test_set_pred)), '($M)')\n",
    "\n",
    "# Fitted vs. Actual Train\n",
    "plt.figure()\n",
    "y_train_pred = lasso_model.predict(X_tr)\n",
    "plt.scatter(y_train, y_train_pred, alpha=0.2)\n",
    "plt.plot([0, 40], [0, 40])\n",
    "plt.title('Predicted vs Actual Salary($M), Train Set')\n",
    "\n",
    "# Fitted vs. Actual Test\n",
    "plt.figure()\n",
    "y_test_pred = lasso_model.predict(X_te)\n",
    "plt.scatter(y_test, y_test_pred, alpha=0.5)\n",
    "plt.plot([0, 40], [0, 40])\n",
    "plt.title('LASSO Predicted vs Actual Salary($M), Test Set')\n",
    "\n",
    "# Plot Residuals vs. predicted\n",
    "plt.figure()\n",
    "plt.scatter(y_test, y_test - y_test_pred, alpha=0.5)\n",
    "plt.plot([0, 40], [0, 0])\n",
    "plt.title('LASSO Residuals vs Actual Salary($M), Test Set')"
   ]
  },
  {
   "cell_type": "markdown",
   "id": "76cea052",
   "metadata": {},
   "source": [
    "# Save model parameters"
   ]
  },
  {
   "cell_type": "code",
   "execution_count": 128,
   "id": "51a28612",
   "metadata": {},
   "outputs": [],
   "source": [
    "# lr_filename = 'lr_model.sav'\n",
    "lr_filename = r'/Users/andrei/Dropbox/Metis/7-Engineering/andrei-eng-project/data/lr_model.sav'\n",
    "pickle.dump(lr,open(lr_filename,'wb'))\n",
    "\n",
    "# lasso_filename = 'lasso_model.sav'\n",
    "lasso_filename = r'/Users/andrei/Dropbox/Metis/7-Engineering/andrei-eng-project/data/lasso_model.sav'\n",
    "pickle.dump(lasso_model,open(lasso_filename,'wb'))"
   ]
  },
  {
   "cell_type": "code",
   "execution_count": 129,
   "id": "46e03246",
   "metadata": {},
   "outputs": [
    {
     "name": "stdout",
     "output_type": "stream",
     "text": [
      "0.5664826178622566\n"
     ]
    }
   ],
   "source": [
    "loaded_model = pickle.load(open(lr_filename, 'rb'))\n",
    "result = loaded_model.score(X_test, y_test)\n",
    "print(result)"
   ]
  },
  {
   "cell_type": "code",
   "execution_count": 130,
   "id": "4242a012",
   "metadata": {},
   "outputs": [
    {
     "name": "stdout",
     "output_type": "stream",
     "text": [
      "0.570911491412357\n"
     ]
    }
   ],
   "source": [
    "loaded_model = pickle.load(open(lasso_filename, 'rb'))\n",
    "result = loaded_model.score(X_te, y_test)\n",
    "print(result)"
   ]
  },
  {
   "cell_type": "code",
   "execution_count": 5,
   "id": "3d8e635a",
   "metadata": {},
   "outputs": [
    {
     "name": "stdout",
     "output_type": "stream",
     "text": [
      "pandas 1.3.3\n",
      "numpy 1.21.2\n"
     ]
    }
   ],
   "source": [
    "import pandas\n",
    "import numpy\n",
    "print('pandas', pandas.__version__)\n",
    "print('numpy',numpy.__version__)\n"
   ]
  },
  {
   "cell_type": "code",
   "execution_count": 4,
   "id": "7f18a26b",
   "metadata": {},
   "outputs": [
    {
     "ename": "ModuleNotFoundError",
     "evalue": "No module named 'streamlit'",
     "output_type": "error",
     "traceback": [
      "\u001b[0;31m---------------------------------------------------------------------------\u001b[0m",
      "\u001b[0;31mModuleNotFoundError\u001b[0m                       Traceback (most recent call last)",
      "\u001b[0;32m<ipython-input-4-99bc1199c3d9>\u001b[0m in \u001b[0;36m<module>\u001b[0;34m\u001b[0m\n\u001b[0;32m----> 1\u001b[0;31m \u001b[0;32mimport\u001b[0m \u001b[0mstreamlit\u001b[0m \u001b[0;32mas\u001b[0m \u001b[0mst\u001b[0m\u001b[0;34m\u001b[0m\u001b[0;34m\u001b[0m\u001b[0m\n\u001b[0m",
      "\u001b[0;31mModuleNotFoundError\u001b[0m: No module named 'streamlit'"
     ]
    }
   ],
   "source": [
    "import streamlit as st "
   ]
  },
  {
   "cell_type": "code",
   "execution_count": null,
   "id": "01d0d5b1",
   "metadata": {},
   "outputs": [],
   "source": []
  }
 ],
 "metadata": {
  "kernelspec": {
   "display_name": "Python 3 (ipykernel)",
   "language": "python",
   "name": "python3"
  },
  "language_info": {
   "codemirror_mode": {
    "name": "ipython",
    "version": 3
   },
   "file_extension": ".py",
   "mimetype": "text/x-python",
   "name": "python",
   "nbconvert_exporter": "python",
   "pygments_lexer": "ipython3",
   "version": "3.8.5"
  }
 },
 "nbformat": 4,
 "nbformat_minor": 5
}
